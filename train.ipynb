{
 "cells": [
  {
   "cell_type": "code",
   "execution_count": 10,
   "metadata": {},
   "outputs": [],
   "source": [
    "import datetime\n",
    "import numpy as np\n",
    "import matplotlib.pyplot as plt\n",
    "from keras.layers import Input, Activation, Conv2D, Flatten, Dense, MaxPooling2D\n",
    "from keras.models import Model, load_model\n",
    "from keras.preprocessing.image import ImageDataGenerator\n",
    "from keras.callbacks import ModelCheckpoint, ReduceLROnPlateau\n",
    "plt.style.use('dark_background')"
   ]
  },
  {
   "cell_type": "markdown",
   "metadata": {},
   "source": [
    "# Load Dataset"
   ]
  },
  {
   "cell_type": "code",
   "execution_count": 11,
   "metadata": {},
   "outputs": [
    {
     "name": "stdout",
     "output_type": "stream",
     "text": [
      "(2586, 26, 34, 1) (2586, 1)\n",
      "(288, 26, 34, 1) (288, 1)\n"
     ]
    }
   ],
   "source": [
    "x_train = np.load('dataset/x_train.npy').astype(np.float32)\n",
    "y_train = np.load('dataset/y_train.npy').astype(np.float32)\n",
    "x_val = np.load('dataset/x_val.npy').astype(np.float32)\n",
    "y_val = np.load('dataset/y_val.npy').astype(np.float32)\n",
    "\n",
    "print(x_train.shape, y_train.shape)\n",
    "print(x_val.shape, y_val.shape)"
   ]
  },
  {
   "cell_type": "markdown",
   "metadata": {},
   "source": [
    "# Preview"
   ]
  },
  {
   "cell_type": "code",
   "execution_count": 12,
   "metadata": {},
   "outputs": [
    {
     "data": {
      "text/plain": [
       "<matplotlib.image.AxesImage at 0x2053a934550>"
      ]
     },
     "execution_count": 12,
     "metadata": {},
     "output_type": "execute_result"
    },
    {
     "data": {
      "image/png": "[encoded data removed]",
      "text/plain": [
       "<Figure size 640x480 with 2 Axes>"
      ]
     },
     "metadata": {},
     "output_type": "display_data"
    }
   ],
   "source": [
    "plt.subplot(2, 1, 1)\n",
    "plt.title(str(y_train[0]))\n",
    "plt.imshow(x_train[0].reshape((26, 34)), cmap='gray')\n",
    "plt.subplot(2, 1, 2)\n",
    "plt.title(str(y_val[4]))\n",
    "plt.imshow(x_val[4].reshape((26, 34)), cmap='gray')"
   ]
  },
  {
   "cell_type": "markdown",
   "metadata": {},
   "source": [
    "# Data Augmentation"
   ]
  },
  {
   "cell_type": "code",
   "execution_count": 13,
   "metadata": {},
   "outputs": [],
   "source": [
    "train_datagen = ImageDataGenerator(\n",
    "    rescale=1./255,\n",
    "    rotation_range=10,\n",
    "    width_shift_range=0.2,\n",
    "    height_shift_range=0.2,\n",
    "    shear_range=0.2\n",
    ")\n",
    "\n",
    "val_datagen = ImageDataGenerator(rescale=1./255)\n",
    "\n",
    "train_generator = train_datagen.flow(\n",
    "    x=x_train, y=y_train,\n",
    "    batch_size=32,\n",
    "    shuffle=True\n",
    ")\n",
    "\n",
    "val_generator = val_datagen.flow(\n",
    "    x=x_val, y=y_val,\n",
    "    batch_size=32,\n",
    "    shuffle=False\n",
    ")"
   ]
  },
  {
   "cell_type": "markdown",
   "metadata": {},
   "source": [
    "# Build Model"
   ]
  },
  {
   "cell_type": "code",
   "execution_count": 14,
   "metadata": {},
   "outputs": [
    {
     "name": "stdout",
     "output_type": "stream",
     "text": [
      "Model: \"model_1\"\n",
      "_________________________________________________________________\n",
      " Layer (type)                Output Shape              Param #   \n",
      "=================================================================\n",
      " input_2 (InputLayer)        [(None, 26, 34, 1)]       0         \n",
      "                                                                 \n",
      " conv2d_3 (Conv2D)           (None, 26, 34, 32)        320       \n",
      "                                                                 \n",
      " max_pooling2d_3 (MaxPoolin  (None, 13, 17, 32)        0         \n",
      " g2D)                                                            \n",
      "                                                                 \n",
      " conv2d_4 (Conv2D)           (None, 13, 17, 64)        18496     \n",
      "                                                                 \n",
      " max_pooling2d_4 (MaxPoolin  (None, 6, 8, 64)          0         \n",
      " g2D)                                                            \n",
      "                                                                 \n",
      " conv2d_5 (Conv2D)           (None, 6, 8, 128)         73856     \n",
      "                                                                 \n",
      " max_pooling2d_5 (MaxPoolin  (None, 3, 4, 128)         0         \n",
      " g2D)                                                            \n",
      "                                                                 \n",
      " flatten_1 (Flatten)         (None, 1536)              0         \n",
      "                                                                 \n",
      " dense_2 (Dense)             (None, 512)               786944    \n",
      "                                                                 \n",
      " activation_2 (Activation)   (None, 512)               0         \n",
      "                                                                 \n",
      " dense_3 (Dense)             (None, 1)                 513       \n",
      "                                                                 \n",
      " activation_3 (Activation)   (None, 1)                 0         \n",
      "                                                                 \n",
      "=================================================================\n",
      "Total params: 880129 (3.36 MB)\n",
      "Trainable params: 880129 (3.36 MB)\n",
      "Non-trainable params: 0 (0.00 Byte)\n",
      "_________________________________________________________________\n"
     ]
    }
   ],
   "source": [
    "inputs = Input(shape=(26, 34, 1))\n",
    "\n",
    "net = Conv2D(32, kernel_size=3, strides=1, padding='same', activation='relu')(inputs)\n",
    "net = MaxPooling2D(pool_size=2)(net)\n",
    "\n",
    "net = Conv2D(64, kernel_size=3, strides=1, padding='same', activation='relu')(net)\n",
    "net = MaxPooling2D(pool_size=2)(net)\n",
    "\n",
    "net = Conv2D(128, kernel_size=3, strides=1, padding='same', activation='relu')(net)\n",
    "net = MaxPooling2D(pool_size=2)(net)\n",
    "\n",
    "net = Flatten()(net)\n",
    "\n",
    "net = Dense(512)(net)\n",
    "net = Activation('relu')(net)\n",
    "net = Dense(1)(net)\n",
    "outputs = Activation('sigmoid')(net)\n",
    "\n",
    "model = Model(inputs=inputs, outputs=outputs)\n",
    "\n",
    "model.compile(optimizer='adam', loss='binary_crossentropy', metrics=['acc'])\n",
    "\n",
    "model.summary()"
   ]
  },
  {
   "cell_type": "markdown",
   "metadata": {},
   "source": [
    "# Train"
   ]
  },
  {
   "cell_type": "code",
   "execution_count": 15,
   "metadata": {
    "scrolled": true
   },
   "outputs": [
    {
     "name": "stdout",
     "output_type": "stream",
     "text": [
      "Epoch 1/50\n"
     ]
    },
    {
     "name": "stderr",
     "output_type": "stream",
     "text": [
      "C:\\Users\\kikikiju\\AppData\\Local\\Temp\\ipykernel_34116\\3027296455.py:3: UserWarning: `Model.fit_generator` is deprecated and will be removed in a future version. Please use `Model.fit`, which supports generators.\n",
      "  model.fit_generator(\n"
     ]
    },
    {
     "name": "stdout",
     "output_type": "stream",
     "text": [
      "81/81 [==============================] - ETA: 0s - loss: 0.4920 - acc: 0.7413\n",
      "Epoch 1: val_acc improved from -inf to 0.86111, saving model to models\\2023_11_14_23_17_27.h5\n",
      "81/81 [==============================] - 3s 29ms/step - loss: 0.4920 - acc: 0.7413 - val_loss: 0.2881 - val_acc: 0.8611 - lr: 0.0010\n",
      "Epoch 2/50\n",
      " 3/81 [>.............................] - ETA: 2s - loss: 0.2878 - acc: 0.9062"
     ]
    },
    {
     "name": "stderr",
     "output_type": "stream",
     "text": [
      "C:\\Users\\kikikiju\\AppData\\Local\\Packages\\PythonSoftwareFoundation.Python.3.11_qbz5n2kfra8p0\\LocalCache\\local-packages\\Python311\\site-packages\\keras\\src\\engine\\training.py:3079: UserWarning: You are saving your model as an HDF5 file via `model.save()`. This file format is considered legacy. We recommend using instead the native Keras format, e.g. `model.save('my_model.keras')`.\n",
      "  saving_api.save_model(\n"
     ]
    },
    {
     "name": "stdout",
     "output_type": "stream",
     "text": [
      "79/81 [============================>.] - ETA: 0s - loss: 0.2530 - acc: 0.8977\n",
      "Epoch 2: val_acc improved from 0.86111 to 0.97569, saving model to models\\2023_11_14_23_17_27.h5\n",
      "81/81 [==============================] - 2s 28ms/step - loss: 0.2508 - acc: 0.8991 - val_loss: 0.1122 - val_acc: 0.9757 - lr: 0.0010\n",
      "Epoch 3/50\n",
      "81/81 [==============================] - ETA: 0s - loss: 0.1828 - acc: 0.9312\n",
      "Epoch 3: val_acc did not improve from 0.97569\n",
      "81/81 [==============================] - 2s 30ms/step - loss: 0.1828 - acc: 0.9312 - val_loss: 0.1125 - val_acc: 0.9688 - lr: 0.0010\n",
      "Epoch 4/50\n",
      "80/81 [============================>.] - ETA: 0s - loss: 0.1755 - acc: 0.9432\n",
      "Epoch 4: val_acc improved from 0.97569 to 0.98958, saving model to models\\2023_11_14_23_17_27.h5\n",
      "81/81 [==============================] - 3s 33ms/step - loss: 0.1738 - acc: 0.9439 - val_loss: 0.0866 - val_acc: 0.9896 - lr: 0.0010\n",
      "Epoch 5/50\n",
      "80/81 [============================>.] - ETA: 0s - loss: 0.1321 - acc: 0.9601\n",
      "Epoch 5: val_acc did not improve from 0.98958\n",
      "81/81 [==============================] - 3s 39ms/step - loss: 0.1312 - acc: 0.9606 - val_loss: 0.0926 - val_acc: 0.9792 - lr: 0.0010\n",
      "Epoch 6/50\n",
      "81/81 [==============================] - ETA: 0s - loss: 0.1225 - acc: 0.9606\n",
      "Epoch 6: val_acc improved from 0.98958 to 0.99306, saving model to models\\2023_11_14_23_17_27.h5\n",
      "81/81 [==============================] - 4s 53ms/step - loss: 0.1225 - acc: 0.9606 - val_loss: 0.0828 - val_acc: 0.9931 - lr: 0.0010\n",
      "Epoch 7/50\n",
      "81/81 [==============================] - ETA: 0s - loss: 0.1158 - acc: 0.9652\n",
      "Epoch 7: val_acc did not improve from 0.99306\n",
      "81/81 [==============================] - 4s 52ms/step - loss: 0.1158 - acc: 0.9652 - val_loss: 0.0752 - val_acc: 0.9861 - lr: 0.0010\n",
      "Epoch 8/50\n",
      "81/81 [==============================] - ETA: 0s - loss: 0.0848 - acc: 0.9733\n",
      "Epoch 8: val_acc did not improve from 0.99306\n",
      "81/81 [==============================] - 3s 35ms/step - loss: 0.0848 - acc: 0.9733 - val_loss: 0.0701 - val_acc: 0.9861 - lr: 0.0010\n",
      "Epoch 9/50\n",
      "81/81 [==============================] - ETA: 0s - loss: 0.0889 - acc: 0.9753\n",
      "Epoch 9: val_acc did not improve from 0.99306\n",
      "81/81 [==============================] - 2s 28ms/step - loss: 0.0889 - acc: 0.9753 - val_loss: 0.0794 - val_acc: 0.9757 - lr: 0.0010\n",
      "Epoch 10/50\n",
      "81/81 [==============================] - ETA: 0s - loss: 0.0773 - acc: 0.9760\n",
      "Epoch 10: val_acc did not improve from 0.99306\n",
      "81/81 [==============================] - 4s 51ms/step - loss: 0.0773 - acc: 0.9760 - val_loss: 0.1038 - val_acc: 0.9792 - lr: 0.0010\n",
      "Epoch 11/50\n",
      "81/81 [==============================] - ETA: 0s - loss: 0.0650 - acc: 0.9799\n",
      "Epoch 11: val_acc did not improve from 0.99306\n",
      "81/81 [==============================] - 4s 51ms/step - loss: 0.0650 - acc: 0.9799 - val_loss: 0.0621 - val_acc: 0.9896 - lr: 0.0010\n",
      "Epoch 12/50\n",
      "80/81 [============================>.] - ETA: 0s - loss: 0.0566 - acc: 0.9820\n",
      "Epoch 12: val_acc did not improve from 0.99306\n",
      "81/81 [==============================] - 3s 38ms/step - loss: 0.0561 - acc: 0.9822 - val_loss: 0.0581 - val_acc: 0.9896 - lr: 0.0010\n",
      "Epoch 13/50\n",
      "81/81 [==============================] - ETA: 0s - loss: 0.0545 - acc: 0.9811\n",
      "Epoch 13: val_acc did not improve from 0.99306\n",
      "81/81 [==============================] - 2s 29ms/step - loss: 0.0545 - acc: 0.9811 - val_loss: 0.0561 - val_acc: 0.9861 - lr: 0.0010\n",
      "Epoch 14/50\n",
      "80/81 [============================>.] - ETA: 0s - loss: 0.0465 - acc: 0.9832\n",
      "Epoch 14: val_acc did not improve from 0.99306\n",
      "81/81 [==============================] - 2s 28ms/step - loss: 0.0462 - acc: 0.9834 - val_loss: 0.0534 - val_acc: 0.9896 - lr: 0.0010\n",
      "Epoch 15/50\n",
      "80/81 [============================>.] - ETA: 0s - loss: 0.0533 - acc: 0.9843\n",
      "Epoch 15: val_acc did not improve from 0.99306\n",
      "81/81 [==============================] - 2s 28ms/step - loss: 0.0532 - acc: 0.9845 - val_loss: 0.0553 - val_acc: 0.9931 - lr: 0.0010\n",
      "Epoch 16/50\n",
      "80/81 [============================>.] - ETA: 0s - loss: 0.0404 - acc: 0.9859\n",
      "Epoch 16: val_acc did not improve from 0.99306\n",
      "\n",
      "Epoch 16: ReduceLROnPlateau reducing learning rate to 0.00020000000949949026.\n",
      "81/81 [==============================] - 2s 27ms/step - loss: 0.0412 - acc: 0.9853 - val_loss: 0.0639 - val_acc: 0.9896 - lr: 0.0010\n",
      "Epoch 17/50\n",
      "81/81 [==============================] - ETA: 0s - loss: 0.0301 - acc: 0.9911\n",
      "Epoch 17: val_acc did not improve from 0.99306\n",
      "81/81 [==============================] - 2s 27ms/step - loss: 0.0301 - acc: 0.9911 - val_loss: 0.0529 - val_acc: 0.9896 - lr: 2.0000e-04\n",
      "Epoch 18/50\n",
      "80/81 [============================>.] - ETA: 0s - loss: 0.0274 - acc: 0.9906\n",
      "Epoch 18: val_acc did not improve from 0.99306\n",
      "81/81 [==============================] - 2s 28ms/step - loss: 0.0271 - acc: 0.9907 - val_loss: 0.0517 - val_acc: 0.9931 - lr: 2.0000e-04\n",
      "Epoch 19/50\n",
      "79/81 [============================>.] - ETA: 0s - loss: 0.0179 - acc: 0.9933\n",
      "Epoch 19: val_acc did not improve from 0.99306\n",
      "81/81 [==============================] - 2s 28ms/step - loss: 0.0183 - acc: 0.9930 - val_loss: 0.0525 - val_acc: 0.9931 - lr: 2.0000e-04\n",
      "Epoch 20/50\n",
      "80/81 [============================>.] - ETA: 0s - loss: 0.0214 - acc: 0.9930\n",
      "Epoch 20: val_acc did not improve from 0.99306\n",
      "81/81 [==============================] - 2s 30ms/step - loss: 0.0212 - acc: 0.9930 - val_loss: 0.0531 - val_acc: 0.9931 - lr: 2.0000e-04\n",
      "Epoch 21/50\n",
      "80/81 [============================>.] - ETA: 0s - loss: 0.0210 - acc: 0.9926\n",
      "Epoch 21: val_acc did not improve from 0.99306\n",
      "81/81 [==============================] - 2s 30ms/step - loss: 0.0208 - acc: 0.9927 - val_loss: 0.0570 - val_acc: 0.9931 - lr: 2.0000e-04\n",
      "Epoch 22/50\n",
      "81/81 [==============================] - ETA: 0s - loss: 0.0220 - acc: 0.9923\n",
      "Epoch 22: val_acc did not improve from 0.99306\n",
      "81/81 [==============================] - 3s 41ms/step - loss: 0.0220 - acc: 0.9923 - val_loss: 0.0563 - val_acc: 0.9931 - lr: 2.0000e-04\n",
      "Epoch 23/50\n",
      "81/81 [==============================] - ETA: 0s - loss: 0.0198 - acc: 0.9946\n",
      "Epoch 23: val_acc did not improve from 0.99306\n",
      "81/81 [==============================] - 5s 55ms/step - loss: 0.0198 - acc: 0.9946 - val_loss: 0.0584 - val_acc: 0.9931 - lr: 2.0000e-04\n",
      "Epoch 24/50\n",
      "81/81 [==============================] - ETA: 0s - loss: 0.0216 - acc: 0.9927\n",
      "Epoch 24: val_acc did not improve from 0.99306\n",
      "81/81 [==============================] - 4s 49ms/step - loss: 0.0216 - acc: 0.9927 - val_loss: 0.0575 - val_acc: 0.9931 - lr: 2.0000e-04\n",
      "Epoch 25/50\n",
      "81/81 [==============================] - ETA: 0s - loss: 0.0185 - acc: 0.9954\n",
      "Epoch 25: val_acc did not improve from 0.99306\n",
      "81/81 [==============================] - 5s 56ms/step - loss: 0.0185 - acc: 0.9954 - val_loss: 0.0609 - val_acc: 0.9931 - lr: 2.0000e-04\n",
      "Epoch 26/50\n",
      "81/81 [==============================] - ETA: 0s - loss: 0.0258 - acc: 0.9930\n",
      "Epoch 26: val_acc did not improve from 0.99306\n",
      "\n",
      "Epoch 26: ReduceLROnPlateau reducing learning rate to 4.0000001899898055e-05.\n",
      "81/81 [==============================] - 4s 53ms/step - loss: 0.0258 - acc: 0.9930 - val_loss: 0.0539 - val_acc: 0.9931 - lr: 2.0000e-04\n",
      "Epoch 27/50\n",
      "80/81 [============================>.] - ETA: 0s - loss: 0.0152 - acc: 0.9953\n",
      "Epoch 27: val_acc did not improve from 0.99306\n",
      "81/81 [==============================] - 4s 52ms/step - loss: 0.0150 - acc: 0.9954 - val_loss: 0.0546 - val_acc: 0.9931 - lr: 4.0000e-05\n",
      "Epoch 28/50\n",
      "81/81 [==============================] - ETA: 0s - loss: 0.0169 - acc: 0.9938\n",
      "Epoch 28: val_acc did not improve from 0.99306\n",
      "81/81 [==============================] - 4s 51ms/step - loss: 0.0169 - acc: 0.9938 - val_loss: 0.0546 - val_acc: 0.9931 - lr: 4.0000e-05\n",
      "Epoch 29/50\n",
      "80/81 [============================>.] - ETA: 0s - loss: 0.0120 - acc: 0.9965\n",
      "Epoch 29: val_acc did not improve from 0.99306\n",
      "81/81 [==============================] - 3s 34ms/step - loss: 0.0119 - acc: 0.9965 - val_loss: 0.0550 - val_acc: 0.9931 - lr: 4.0000e-05\n",
      "Epoch 30/50\n",
      "81/81 [==============================] - ETA: 0s - loss: 0.0128 - acc: 0.9954\n",
      "Epoch 30: val_acc did not improve from 0.99306\n",
      "81/81 [==============================] - 3s 31ms/step - loss: 0.0128 - acc: 0.9954 - val_loss: 0.0558 - val_acc: 0.9931 - lr: 4.0000e-05\n",
      "Epoch 31/50\n",
      "81/81 [==============================] - ETA: 0s - loss: 0.0165 - acc: 0.9950\n",
      "Epoch 31: val_acc did not improve from 0.99306\n",
      "81/81 [==============================] - 3s 42ms/step - loss: 0.0165 - acc: 0.9950 - val_loss: 0.0552 - val_acc: 0.9931 - lr: 4.0000e-05\n",
      "Epoch 32/50\n",
      "81/81 [==============================] - ETA: 0s - loss: 0.0160 - acc: 0.9938\n",
      "Epoch 32: val_acc did not improve from 0.99306\n",
      "81/81 [==============================] - 4s 53ms/step - loss: 0.0160 - acc: 0.9938 - val_loss: 0.0553 - val_acc: 0.9931 - lr: 4.0000e-05\n",
      "Epoch 33/50\n",
      "81/81 [==============================] - ETA: 0s - loss: 0.0162 - acc: 0.9950\n",
      "Epoch 33: val_acc did not improve from 0.99306\n",
      "81/81 [==============================] - 4s 53ms/step - loss: 0.0162 - acc: 0.9950 - val_loss: 0.0559 - val_acc: 0.9931 - lr: 4.0000e-05\n",
      "Epoch 34/50\n",
      "81/81 [==============================] - ETA: 0s - loss: 0.0143 - acc: 0.9954\n",
      "Epoch 34: val_acc did not improve from 0.99306\n",
      "81/81 [==============================] - 4s 53ms/step - loss: 0.0143 - acc: 0.9954 - val_loss: 0.0552 - val_acc: 0.9931 - lr: 4.0000e-05\n",
      "Epoch 35/50\n",
      "80/81 [============================>.] - ETA: 0s - loss: 0.0156 - acc: 0.9953\n",
      "Epoch 35: val_acc did not improve from 0.99306\n",
      "81/81 [==============================] - 4s 52ms/step - loss: 0.0156 - acc: 0.9954 - val_loss: 0.0557 - val_acc: 0.9931 - lr: 4.0000e-05\n",
      "Epoch 36/50\n",
      "79/81 [============================>.] - ETA: 0s - loss: 0.0194 - acc: 0.9944\n",
      "Epoch 36: val_acc did not improve from 0.99306\n",
      "\n",
      "Epoch 36: ReduceLROnPlateau reducing learning rate to 1e-05.\n",
      "81/81 [==============================] - 4s 46ms/step - loss: 0.0195 - acc: 0.9942 - val_loss: 0.0555 - val_acc: 0.9931 - lr: 4.0000e-05\n",
      "Epoch 37/50\n",
      "80/81 [============================>.] - ETA: 0s - loss: 0.0145 - acc: 0.9969\n",
      "Epoch 37: val_acc did not improve from 0.99306\n",
      "81/81 [==============================] - 2s 29ms/step - loss: 0.0152 - acc: 0.9965 - val_loss: 0.0550 - val_acc: 0.9931 - lr: 1.0000e-05\n",
      "Epoch 38/50\n",
      "81/81 [==============================] - ETA: 0s - loss: 0.0139 - acc: 0.9942\n",
      "Epoch 38: val_acc did not improve from 0.99306\n",
      "81/81 [==============================] - 2s 30ms/step - loss: 0.0139 - acc: 0.9942 - val_loss: 0.0555 - val_acc: 0.9931 - lr: 1.0000e-05\n",
      "Epoch 39/50\n",
      "80/81 [============================>.] - ETA: 0s - loss: 0.0112 - acc: 0.9969\n",
      "Epoch 39: val_acc did not improve from 0.99306\n",
      "81/81 [==============================] - 2s 30ms/step - loss: 0.0112 - acc: 0.9969 - val_loss: 0.0559 - val_acc: 0.9931 - lr: 1.0000e-05\n",
      "Epoch 40/50\n",
      "80/81 [============================>.] - ETA: 0s - loss: 0.0102 - acc: 0.9980\n",
      "Epoch 40: val_acc did not improve from 0.99306\n",
      "81/81 [==============================] - 3s 32ms/step - loss: 0.0101 - acc: 0.9981 - val_loss: 0.0559 - val_acc: 0.9931 - lr: 1.0000e-05\n",
      "Epoch 41/50\n",
      "81/81 [==============================] - ETA: 0s - loss: 0.0126 - acc: 0.9954\n",
      "Epoch 41: val_acc did not improve from 0.99306\n",
      "81/81 [==============================] - 2s 29ms/step - loss: 0.0126 - acc: 0.9954 - val_loss: 0.0556 - val_acc: 0.9931 - lr: 1.0000e-05\n",
      "Epoch 42/50\n",
      "80/81 [============================>.] - ETA: 0s - loss: 0.0156 - acc: 0.9937\n",
      "Epoch 42: val_acc did not improve from 0.99306\n",
      "81/81 [==============================] - 3s 33ms/step - loss: 0.0155 - acc: 0.9938 - val_loss: 0.0558 - val_acc: 0.9931 - lr: 1.0000e-05\n",
      "Epoch 43/50\n",
      "80/81 [============================>.] - ETA: 0s - loss: 0.0117 - acc: 0.9957\n",
      "Epoch 43: val_acc did not improve from 0.99306\n",
      "81/81 [==============================] - 3s 31ms/step - loss: 0.0117 - acc: 0.9957 - val_loss: 0.0565 - val_acc: 0.9931 - lr: 1.0000e-05\n",
      "Epoch 44/50\n",
      "80/81 [============================>.] - ETA: 0s - loss: 0.0146 - acc: 0.9961\n",
      "Epoch 44: val_acc did not improve from 0.99306\n",
      "81/81 [==============================] - 2s 28ms/step - loss: 0.0145 - acc: 0.9961 - val_loss: 0.0568 - val_acc: 0.9931 - lr: 1.0000e-05\n",
      "Epoch 45/50\n",
      "80/81 [============================>.] - ETA: 0s - loss: 0.0132 - acc: 0.9953\n",
      "Epoch 45: val_acc did not improve from 0.99306\n",
      "81/81 [==============================] - 2s 28ms/step - loss: 0.0138 - acc: 0.9950 - val_loss: 0.0570 - val_acc: 0.9931 - lr: 1.0000e-05\n",
      "Epoch 46/50\n",
      "81/81 [==============================] - ETA: 0s - loss: 0.0122 - acc: 0.9961\n",
      "Epoch 46: val_acc did not improve from 0.99306\n",
      "81/81 [==============================] - 2s 28ms/step - loss: 0.0122 - acc: 0.9961 - val_loss: 0.0572 - val_acc: 0.9931 - lr: 1.0000e-05\n",
      "Epoch 47/50\n",
      "80/81 [============================>.] - ETA: 0s - loss: 0.0110 - acc: 0.9965\n",
      "Epoch 47: val_acc did not improve from 0.99306\n",
      "81/81 [==============================] - 2s 27ms/step - loss: 0.0109 - acc: 0.9965 - val_loss: 0.0574 - val_acc: 0.9931 - lr: 1.0000e-05\n",
      "Epoch 48/50\n",
      "81/81 [==============================] - ETA: 0s - loss: 0.0130 - acc: 0.9954\n",
      "Epoch 48: val_acc did not improve from 0.99306\n",
      "81/81 [==============================] - 2s 28ms/step - loss: 0.0130 - acc: 0.9954 - val_loss: 0.0572 - val_acc: 0.9931 - lr: 1.0000e-05\n",
      "Epoch 49/50\n",
      "81/81 [==============================] - ETA: 0s - loss: 0.0105 - acc: 0.9973\n",
      "Epoch 49: val_acc did not improve from 0.99306\n",
      "81/81 [==============================] - 2s 29ms/step - loss: 0.0105 - acc: 0.9973 - val_loss: 0.0573 - val_acc: 0.9931 - lr: 1.0000e-05\n",
      "Epoch 50/50\n",
      "80/81 [============================>.] - ETA: 0s - loss: 0.0123 - acc: 0.9965\n",
      "Epoch 50: val_acc did not improve from 0.99306\n",
      "81/81 [==============================] - 3s 32ms/step - loss: 0.0130 - acc: 0.9961 - val_loss: 0.0571 - val_acc: 0.9931 - lr: 1.0000e-05\n"
     ]
    },
    {
     "data": {
      "text/plain": [
       "<keras.src.callbacks.History at 0x20531898490>"
      ]
     },
     "execution_count": 15,
     "metadata": {},
     "output_type": "execute_result"
    }
   ],
   "source": [
    "start_time = datetime.datetime.now().strftime('%Y_%m_%d_%H_%M_%S')\n",
    "\n",
    "model.fit_generator(\n",
    "    train_generator, epochs=50, validation_data=val_generator,\n",
    "    callbacks=[\n",
    "        ModelCheckpoint('models/%s.h5' % (start_time), monitor='val_acc', save_best_only=True, mode='max', verbose=1),\n",
    "        ReduceLROnPlateau(monitor='val_acc', factor=0.2, patience=10, verbose=1, mode='auto', min_lr=1e-05)\n",
    "    ]\n",
    ")"
   ]
  },
  {
   "cell_type": "markdown",
   "metadata": {},
   "source": [
    "# Confusion Matrix"
   ]
  },
  {
   "cell_type": "code",
   "execution_count": 16,
   "metadata": {},
   "outputs": [
    {
     "name": "stdout",
     "output_type": "stream",
     "text": [
      "9/9 [==============================] - 0s 9ms/step\n",
      "test acc: 0.9930555555555556\n"
     ]
    },
    {
     "data": {
      "text/plain": [
       "<Axes: >"
      ]
     },
     "execution_count": 16,
     "metadata": {},
     "output_type": "execute_result"
    },
    {
     "data": {
      "image/png": "[encoded data removed]",
      "text/plain": [
       "<Figure size 640x480 with 2 Axes>"
      ]
     },
     "metadata": {},
     "output_type": "display_data"
    }
   ],
   "source": [
    "from sklearn.metrics import accuracy_score, confusion_matrix\n",
    "import seaborn as sns\n",
    "\n",
    "model = load_model('models/%s.h5' % (start_time))\n",
    "\n",
    "y_pred = model.predict(x_val/255.)\n",
    "y_pred_logical = (y_pred > 0.5).astype(int)\n",
    "\n",
    "print ('test acc: %s' % accuracy_score(y_val, y_pred_logical))\n",
    "cm = confusion_matrix(y_val, y_pred_logical)\n",
    "sns.heatmap(cm, annot=True)"
   ]
  },
  {
   "cell_type": "markdown",
   "metadata": {},
   "source": [
    "# Distribution of Prediction"
   ]
  },
  {
   "cell_type": "code",
   "execution_count": 17,
   "metadata": {},
   "outputs": [
    {
     "name": "stderr",
     "output_type": "stream",
     "text": [
      "C:\\Users\\kikikiju\\AppData\\Local\\Temp\\ipykernel_34116\\3214102087.py:1: UserWarning: \n",
      "\n",
      "`distplot` is a deprecated function and will be removed in seaborn v0.14.0.\n",
      "\n",
      "Please adapt your code to use either `displot` (a figure-level function with\n",
      "similar flexibility) or `histplot` (an axes-level function for histograms).\n",
      "\n",
      "For a guide to updating your code to use the new functions, please see\n",
      "https://gist.github.com/mwaskom/de44147ed2974457ad6372750bbe5751\n",
      "\n",
      "  ax = sns.distplot(y_pred, kde=False)\n"
     ]
    },
    {
     "data": {
      "image/png": "[encoded data removed]",
      "text/plain": [
       "<Figure size 640x480 with 1 Axes>"
      ]
     },
     "metadata": {},
     "output_type": "display_data"
    }
   ],
   "source": [
    "ax = sns.distplot(y_pred, kde=False)"
   ]
  },
  {
   "cell_type": "code",
   "execution_count": null,
   "metadata": {},
   "outputs": [],
   "source": []
  }
 ],
 "metadata": {
  "kernelspec": {
   "display_name": "Python 3",
   "language": "python",
   "name": "python3"
  },
  "language_info": {
   "codemirror_mode": {
    "name": "ipython",
    "version": 3
   },
   "file_extension": ".py",
   "mimetype": "text/x-python",
   "name": "python",
   "nbconvert_exporter": "python",
   "pygments_lexer": "ipython3",
   "version": "3.11.6"
  }
 },
 "nbformat": 4,
 "nbformat_minor": 2
}
